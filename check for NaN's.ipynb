{
 "cells": [
  {
   "cell_type": "code",
   "execution_count": 31,
   "metadata": {},
   "outputs": [],
   "source": [
    "import matplotlib.image as mpimg\n",
    "import glob\n",
    "from PIL import Image\n",
    "import numpy as np"
   ]
  },
  {
   "cell_type": "code",
   "execution_count": 36,
   "metadata": {},
   "outputs": [
    {
     "name": "stdout",
     "output_type": "stream",
     "text": [
      "560\n",
      "559\n",
      "559\n",
      "0\n"
     ]
    }
   ],
   "source": [
    "file_list = open('/home/zenalisa/data/train_list_2_fixed.csv').readlines()\n",
    "#location='/home/zenalisa/data/output/190405_2/07'\n",
    "#file_list = glob.glob(location+\"/*.tiff\")\n",
    "new_file_list = []\n",
    "nan_aia = []\n",
    "nan_hmi = []\n",
    "print len(file_list)\n",
    "for l in file_list[1:]:\n",
    "    nan=False\n",
    "    aia = l.split(',')[0].strip()\n",
    "    hmi = l.split(',')[1].strip()\n",
    "    #print l\n",
    "    #a = Image.open(aia)\n",
    "    #a = np.asarray(a)\n",
    "    #h = Image.open(hmi)\n",
    "    #h = np.asarray(h)\n",
    "    a = mpimg.imread(aia)\n",
    "    h = mpimg.imread(hmi)\n",
    "    if np.isnan(a).any:\n",
    "        nan_aia.append(aia)\n",
    "        nan=True\n",
    "    if np.isnan(h).any:\n",
    "        nan_hmi.append(hmi)\n",
    "        nan=True\n",
    "        \n",
    "    if not nan:\n",
    "        new_file_list.append(l)\n",
    "    \n",
    "print len(nan_aia)\n",
    "print len(nan_hmi)\n",
    "print len(new_file_list)"
   ]
  },
  {
   "cell_type": "code",
   "execution_count": null,
   "metadata": {},
   "outputs": [],
   "source": []
  }
 ],
 "metadata": {
  "kernelspec": {
   "display_name": "Python 2",
   "language": "python",
   "name": "python2"
  },
  "language_info": {
   "codemirror_mode": {
    "name": "ipython",
    "version": 2
   },
   "file_extension": ".py",
   "mimetype": "text/x-python",
   "name": "python",
   "nbconvert_exporter": "python",
   "pygments_lexer": "ipython2",
   "version": "2.7.15"
  }
 },
 "nbformat": 4,
 "nbformat_minor": 2
}
