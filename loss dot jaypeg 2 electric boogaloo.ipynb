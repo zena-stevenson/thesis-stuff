{
 "cells": [
  {
   "cell_type": "code",
   "execution_count": 1,
   "metadata": {},
   "outputs": [
    {
     "name": "stdout",
     "output_type": "stream",
     "text": [
      "0\n"
     ]
    }
   ],
   "source": [
    "import glob\n",
    "import pandas as pd\n",
    "import numpy as np\n",
    "train_lossfiles=glob.glob('/home/zenalisa/models/inthesis/*/losses.csv')\n",
    "same_lossfiles = glob.glob('/home/zenalisa/data/output/inthesis/*/losses.csv')\n",
    "#diff_lossfiles = glob.glob('*/losses.csv')\n",
    "#south_lossfiles = glob.glob('*/losses.csv')\n",
    "\n",
    "print(len(same_lossfiles))"
   ]
  },
  {
   "cell_type": "code",
   "execution_count": 4,
   "metadata": {},
   "outputs": [
    {
     "name": "stdout",
     "output_type": "stream",
     "text": [
      "('10ar_redo', 0.3373)\n",
      "('midscale_redo_log10', 0.4053)\n",
      "('1hem_log10', 0.2686)\n",
      "('midscale_redo_log10_rotate', 0.7303)\n",
      "('1hem_neither', 0.3979)\n",
      "('midscale_redo_neither', 0.3794)\n",
      "('midscale_redo_log10_abs', 0.3648)\n",
      "('midscale_redo_neither_rotate', 0.474)\n",
      "('midscale_redo_abs', 0.3795)\n"
     ]
    }
   ],
   "source": [
    "for t in train_lossfiles:\n",
    "    model=t.split('/')[-2].strip()\n",
    "    loss=pd.read_csv(t).loss_batch[-1000:]\n",
    "    #print(loss.size)\n",
    "    avgloss=np.mean(loss)\n",
    "    \n",
    "    print(model, np.round(avgloss, 4))"
   ]
  },
  {
   "cell_type": "code",
   "execution_count": null,
   "metadata": {},
   "outputs": [],
   "source": [
    "for t in same_lossfiles:\n",
    "    model=t.split('/')[-2].strip()\n",
    "    loss=pd.read_csv(t).loss_batch\n",
    "    #print(loss.size)\n",
    "    avgloss=np.mean(loss)\n",
    "    \n",
    "    print(model, np.round(avgloss, 4))"
   ]
  }
 ],
 "metadata": {
  "kernelspec": {
   "display_name": "Python 2",
   "language": "python",
   "name": "python2"
  },
  "language_info": {
   "codemirror_mode": {
    "name": "ipython",
    "version": 2
   },
   "file_extension": ".py",
   "mimetype": "text/x-python",
   "name": "python",
   "nbconvert_exporter": "python",
   "pygments_lexer": "ipython2",
   "version": "2.7.15"
  }
 },
 "nbformat": 4,
 "nbformat_minor": 2
}
