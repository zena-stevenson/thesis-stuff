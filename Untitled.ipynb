{
 "cells": [
  {
   "cell_type": "code",
   "execution_count": 1,
   "metadata": {},
   "outputs": [],
   "source": [
    "ars=[1567, 2594, 2150, 2207, 1922, 1444, 1837, 1672, 1547, 1932, 1401, 1888, 1389, 2126, 1706, 1280, 1400, 1576, 2051, 2574, 1276, 1934, 2074, 1610, 1977, 1355, 1084, 1965, 1875, 2432, 1881, 2450, 2119, 1636, 1105, 1470, 1720, 2256, 1757, 1666, 2401, 2637, 1798, 2386, 2049, 1714, 2378, 1659, 1514, 1810]"
   ]
  },
  {
   "cell_type": "code",
   "execution_count": 2,
   "metadata": {},
   "outputs": [
    {
     "name": "stdout",
     "output_type": "stream",
     "text": [
      "[1084, 1105, 1276, 1280, 1355, 1389, 1400, 1401, 1444, 1470, 1514, 1547, 1567, 1576, 1610, 1636, 1659, 1666, 1672, 1706, 1714, 1720, 1757, 1798, 1810, 1837, 1875, 1881, 1888, 1922, 1932, 1934, 1965, 1977, 2049, 2051, 2074, 2119, 2126, 2150, 2207, 2256, 2378, 2386, 2401, 2432, 2450, 2574, 2594, 2637]\n"
     ]
    }
   ],
   "source": [
    "ars.sort()\n",
    "print(ars)"
   ]
  },
  {
   "cell_type": "code",
   "execution_count": 3,
   "metadata": {},
   "outputs": [
    {
     "name": "stdout",
     "output_type": "stream",
     "text": [
      "50\n"
     ]
    }
   ],
   "source": [
    "print(len(ars))"
   ]
  },
  {
   "cell_type": "code",
   "execution_count": null,
   "metadata": {},
   "outputs": [],
   "source": []
  }
 ],
 "metadata": {
  "kernelspec": {
   "display_name": "Python 3",
   "language": "python",
   "name": "python3"
  },
  "language_info": {
   "codemirror_mode": {
    "name": "ipython",
    "version": 3
   },
   "file_extension": ".py",
   "mimetype": "text/x-python",
   "name": "python",
   "nbconvert_exporter": "python",
   "pygments_lexer": "ipython3",
   "version": "3.6.9"
  }
 },
 "nbformat": 4,
 "nbformat_minor": 2
}
