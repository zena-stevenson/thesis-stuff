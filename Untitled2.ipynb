{
 "cells": [
  {
   "cell_type": "code",
   "execution_count": 2,
   "metadata": {},
   "outputs": [
    {
     "name": "stdout",
     "output_type": "stream",
     "text": [
      "27490\n"
     ]
    }
   ],
   "source": [
    "import glob\n",
    "import numpy as np\n",
    "from tqdm import tqdm\n",
    "from PIL import Image\n",
    "import matplotlib.pyplot as plt\n",
    "import pandas as pd\n",
    "test=glob.glob('/home/zenalisa/data/*_last/aia/*/*.tiff')+glob.glob('/home/zenalisa/data/*_last/*/aia/*/*.tiff')+glob.glob('/home/zenalisa/data/*_last/*/*/aia/*/*.tiff')\n",
    "#test=target_list\n",
    "print(len(test))"
   ]
  },
  {
   "cell_type": "code",
   "execution_count": 70,
   "metadata": {},
   "outputs": [
    {
     "name": "stdout",
     "output_type": "stream",
     "text": [
      "664\n"
     ]
    },
    {
     "data": {
      "text/plain": [
       "<matplotlib.image.AxesImage at 0x7fa65cd3c110>"
      ]
     },
     "execution_count": 70,
     "metadata": {},
     "output_type": "execute_result"
    },
    {
     "data": {
      "image/png": "[encoded data removed]",
      "text/plain": [
       "<Figure size 432x288 with 1 Axes>"
      ]
     },
     "metadata": {},
     "output_type": "display_data"
    }
   ],
   "source": [
    "#t=test[np.random.randint(0, len(test))]\n",
    "t = '/home/zenalisa/data/50ar_last/aia/2586/aia.lev1_euv_12s.2016-09-05T071124Z.304.image.tiff'\n",
    "img=np.array(Image.open(t))\n",
    "print(np.sum(img))\n",
    "plt.imshow(img, cmap=\"gray\")\n"
   ]
  },
  {
   "cell_type": "code",
   "execution_count": 3,
   "metadata": {},
   "outputs": [
    {
     "name": "stderr",
     "output_type": "stream",
     "text": [
      "100%|██████████| 27490/27490 [00:41<00:00, 661.78it/s]\n"
     ]
    }
   ],
   "source": [
    "mx=0\n",
    "lowsums=[]\n",
    "low=[]\n",
    "sums=[]\n",
    "for t in tqdm(test):\n",
    "    img=np.array(Image.open(t))\n",
    "    sums.append(np.sum(img))\n",
    "    #if np.amax(img)>mx:\n",
    "    #    mx=np.amax(img)\n",
    "    #if np.isnan(np.sum(img)) or np.isinf(np.sum(img)):\n",
    "    #    print(t) \n",
    "    if np.sum(img)<1000:\n",
    "        low.append(t)\n",
    "        lowsums.append(np.sum(img))\n",
    "    #    print(t)\n",
    "#print(mx)"
   ]
  },
  {
   "cell_type": "code",
   "execution_count": 4,
   "metadata": {},
   "outputs": [
    {
     "name": "stdout",
     "output_type": "stream",
     "text": [
      "/home/zenalisa/data/1hem_last/aia/2641/aia.lev1_euv_12s.2017-03-03T063523Z.304.image.tiff\n",
      "195\n",
      "27490\n"
     ]
    }
   ],
   "source": [
    "print(low[lowsums.index(np.amax(lowsums))])\n",
    "print(len(low))\n",
    "print(len(sums))\n",
    "\n",
    "#for l in low:\n",
    "#    print(l)"
   ]
  },
  {
   "cell_type": "code",
   "execution_count": 5,
   "metadata": {},
   "outputs": [
    {
     "name": "stdout",
     "output_type": "stream",
     "text": [
      "/fs1/project/iip/zenalisa/data/1hem_last/aia/1979/aia.lev1_euv_12s.2014-02-13T205925Z.304.image.tiff\n",
      "195\n"
     ]
    }
   ],
   "source": [
    "low_disco=[]\n",
    "for l in low:\n",
    "    low_disco.append(l.replace('/home/zenalisa', '/fs1/project/iip/zenalisa'))\n",
    "    #low_short.append('/'.join(l.split('/')[-2:])) # leave AR# in there, just to be safe, idk\n",
    "\n",
    "print(low_disco[0])\n",
    "print(len(low_disco))"
   ]
  },
  {
   "cell_type": "code",
   "execution_count": 23,
   "metadata": {},
   "outputs": [
    {
     "name": "stdout",
     "output_type": "stream",
     "text": [
      "28\n",
      "181\n",
      "195\n"
     ]
    }
   ],
   "source": [
    "#pandas you are making things Difficult let's try slow way\n",
    "lists=glob.glob('/home/zenalisa/data/*_last/lists/*.csv')\n",
    "print(len(lists))\n",
    "remove=[]\n",
    "for li in lists:\n",
    "    l=open(li, 'r').readlines()\n",
    "    for ipair in l[1:]:\n",
    "        aia=ipair.split(',')[0].strip()\n",
    "        if aia in low_disco:\n",
    "            #print('hi')\n",
    "            remove.append(aia)\n",
    "print(len(remove))\n",
    "print(len(low_disco))"
   ]
  },
  {
   "cell_type": "code",
   "execution_count": 28,
   "metadata": {},
   "outputs": [],
   "source": [
    "testlist='/home/zenalisa/data/50ar_last/lists_copy/remove_test.csv'\n",
    "\n",
    "df=pd.read_csv(testlist)\n",
    "test_remove=['hello', 'files']\n",
    "\n",
    "df=df[~(df.path_signal.isin(test_remove))]\n",
    "df.to_csv('/home/zenalisa/data/50ar_last/lists_copy/remove_test_2.csv')\n"
   ]
  },
  {
   "cell_type": "code",
   "execution_count": 35,
   "metadata": {},
   "outputs": [
    {
     "name": "stdout",
     "output_type": "stream",
     "text": [
      "28\n",
      "0\n"
     ]
    }
   ],
   "source": [
    "lists=glob.glob('/home/zenalisa/data/*_last/lists_copy/*.csv')\n",
    "print(len(lists))\n",
    "removed=0\n",
    "\n",
    "for l in lists:\n",
    "    #print(l)\n",
    "    df=pd.read_csv(l)\n",
    "    #oglen=len(df.path_signal)\n",
    "    df = df[~(df.path_signal.isin(low_disco))]\n",
    "    #newlen=len(df.path_signal)\n",
    "    #removed += (oglen - newlen)\n",
    "    #print(new_df.shape)\n",
    "    newlist=l.replace('lists_copy', 'lists')\n",
    "   # print(newlist)\n",
    "    df.to_csv(newlist, index=False)\n",
    "    #break\n",
    "print(removed)\n",
    "\n"
   ]
  },
  {
   "cell_type": "code",
   "execution_count": 75,
   "metadata": {},
   "outputs": [
    {
     "data": {
      "text/plain": [
       "[<matplotlib.lines.Line2D at 0x7fa65c922950>]"
      ]
     },
     "execution_count": 75,
     "metadata": {},
     "output_type": "execute_result"
    },
    {
     "data": {
      "image/png": "[encoded data removed]",
      "text/plain": [
       "<Figure size 432x288 with 1 Axes>"
      ]
     },
     "metadata": {},
     "output_type": "display_data"
    }
   ],
   "source": [
    "h, b=np.histogram(np.asarray(sums), bins=1000)\n",
    "plt.plot(b[:-1], h)\n",
    "#print(np.sum(h[:20]))"
   ]
  },
  {
   "cell_type": "code",
   "execution_count": null,
   "metadata": {},
   "outputs": [],
   "source": []
  }
 ],
 "metadata": {
  "kernelspec": {
   "display_name": "Python 2",
   "language": "python",
   "name": "python2"
  },
  "language_info": {
   "codemirror_mode": {
    "name": "ipython",
    "version": 2
   },
   "file_extension": ".py",
   "mimetype": "text/x-python",
   "name": "python",
   "nbconvert_exporter": "python",
   "pygments_lexer": "ipython2",
   "version": "2.7.15"
  }
 },
 "nbformat": 4,
 "nbformat_minor": 2
}
