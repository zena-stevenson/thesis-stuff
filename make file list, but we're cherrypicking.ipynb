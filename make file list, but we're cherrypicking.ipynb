{
 "cells": [
  {
   "cell_type": "code",
   "execution_count": 1,
   "metadata": {},
   "outputs": [],
   "source": [
    "import csv\n",
    "import glob\n",
    "from astropy.io import fits\n",
    "import matplotlib.pyplot as plt\n",
    "import os\n",
    "from PIL import Image\n",
    "import numpy as np\n",
    "import sys\n",
    "import random\n",
    "import datetime\n",
    "import traceback"
   ]
  },
  {
   "cell_type": "code",
   "execution_count": 2,
   "metadata": {},
   "outputs": [],
   "source": [
    "def fits_to_tiff(filepath, img_type, outp_name=None):\n",
    "\n",
    "    name, ext = os.path.splitext(filepath)\n",
    "    \n",
    "    if not outp_name:\n",
    "        outp_name = name.replace(name.split('/')[-2], name.split('/')[-2]+'/tiff') #places new files in separate directory\n",
    "    \n",
    "    img = fits.open(filepath)\n",
    "    img.verify('fix')\n",
    "\n",
    "    #img.info()\n",
    "\n",
    "    data = img[1].data #has to be img[1]\n",
    "    width = data.shape[1]\n",
    "    height = data.shape[0]\n",
    "    \n",
    "    \n",
    "    if img_type == 'aia':\n",
    "        data = np.log10(data - data.min()+1)\n",
    "    elif img_type == 'hmi':\n",
    "        data = abs(data)\n",
    "        data = data - data.min()\n",
    "            \n",
    "    data = data.astype(float)/data.max() * 225 #normalize data and multiply by 225 to map to uint8 values\n",
    "    \n",
    "    outputArray = np.array(data, dtype=np.uint8)\n",
    "\n",
    "    output = Image.fromarray(outputArray.reshape((height, width)), \"L\")\n",
    "\n",
    "    if not os.path.exists(outp_name + '/' +  name.split('/')[-2]):\n",
    "        os.makedirs(outp_name + '/' +  name.split('/')[-2])\n",
    "    \n",
    "    output.save(outp_name + '/' +  name.split('/')[-2]+ '/'+ name.split('/')[-1]+\".tiff\")\n",
    "    img.close()\n",
    "    \n",
    "    return(outp_name + '/' +  name.split('/')[-2]+ '/'+ name.split('/')[-1]+\".tiff\")"
   ]
  },
  {
   "cell_type": "code",
   "execution_count": 3,
   "metadata": {},
   "outputs": [],
   "source": [
    "#for sorting file lists by time\n",
    "def timestamp(filename):\n",
    "    t = filename.split('/')[-1].split('.')[2]\n",
    "    return t"
   ]
  },
  {
   "cell_type": "code",
   "execution_count": 20,
   "metadata": {},
   "outputs": [
    {
     "name": "stdout",
     "output_type": "stream",
     "text": [
      "nan's removed\n",
      "file list 1131 complete\n",
      "nan's removed\n",
      "file list 1140 complete\n",
      "nan's removed\n",
      "file list 1147 complete\n"
     ]
    }
   ],
   "source": [
    "aia_files = '/home/zenalisa/data/smallrun/aia/'\n",
    "hmi_files = '/home/zenalisa/data/smallrun/hmi/'\n",
    "\n",
    "for r in [1131, 1140, 1147]:\n",
    "    \n",
    "    aia_file_list = glob.glob(aia_files+str(r)+'/*.fits')\n",
    "    aia_file_list.sort(key = timestamp)\n",
    "    hmi_file_list = glob.glob(hmi_files+str(r)+'/*.fits')\n",
    "    hmi_file_list.sort(key = timestamp)\n",
    "    \n",
    "\n",
    "    l = 32\n",
    "    aia_file_list = aia_file_list[:l]\n",
    "    hmi_file_list = hmi_file_list[:l]\n",
    "\n",
    "    \n",
    "    train_table = open('/home/zenalisa/data/smallrun/tiff/train_list_'+str(r)+'.csv', 'w')\n",
    "    test_table = open('/home/zenalisa/data/smallrun/tiff/test_list_'+str(r)+'.csv', 'w')\n",
    "    w = csv.writer(train_table, delimiter = ',')\n",
    "    w.writerow(['path_signal', 'path_target'])\n",
    "    v = csv.writer(test_table, delimiter = ',')\n",
    "    v.writerow(['path_signal', 'path_target'])\n",
    "    \n",
    "    aia_file_list_new = []\n",
    "    hmi_file_list_new = []\n",
    "    \n",
    "    #for n in range(len(aia_file_list)):\n",
    "    #    if n%100 == 0:\n",
    "    #        print n\n",
    "    for n in range(len(aia_file_list)):\n",
    "\n",
    "        a_fits = fits.open(aia_file_list[n])\n",
    "        a_fits.verify('fix')\n",
    "        a = a_fits[1].data\n",
    "        h_fits = fits.open(hmi_file_list[n])\n",
    "        h_fits.verify('fix')\n",
    "        h = h_fits[1].data\n",
    "\n",
    "        a_fits.close()\n",
    "        h_fits.close()\n",
    "\n",
    "        if np.isnan(a).any() or np.isnan(h).any():\n",
    "            pass\n",
    "        else:\n",
    "            aia_file_list_new.append(aia_file_list[n])\n",
    "            hmi_file_list_new.append(hmi_file_list[n])\n",
    "\n",
    "            \n",
    "    print \"nan's removed\"\n",
    "    \n",
    "    for n in range(len(aia_file_list)):\n",
    "\n",
    "        a = fits_to_tiff(aia_file_list[n], 'aia', outp_name='/home/zenalisa/data/smallrun/tiff/aia')\n",
    "        h = fits_to_tiff(hmi_file_list[n], 'hmi', outp_name='/home/zenalisa/data/smallrun/tiff/hmi')\n",
    "        \n",
    "        #save the middle 10% of images (wrt time) for testing\n",
    "        #center10 = range((len(aia_file_list)/2 - int(.1*len(aia_file_list)/2)), (len(aia_file_list)/2 + int(.1*len(aia_file_list)/2))) \n",
    "        center10= range(14, 17)\n",
    "        if n in center10:\n",
    "            v.writerow([a, h])\n",
    "        else:\n",
    "            w.writerow([a, h])\n",
    "\n",
    "\n",
    "    print \"file list \"+str(r)+\" complete\"\n",
    "    train_table.close()\n",
    "    test_table.close()"
   ]
  },
  {
   "cell_type": "code",
   "execution_count": null,
   "metadata": {},
   "outputs": [],
   "source": [
    "\n",
    "    "
   ]
  }
 ],
 "metadata": {
  "kernelspec": {
   "display_name": "Python 2",
   "language": "python",
   "name": "python2"
  },
  "language_info": {
   "codemirror_mode": {
    "name": "ipython",
    "version": 2
   },
   "file_extension": ".py",
   "mimetype": "text/x-python",
   "name": "python",
   "nbconvert_exporter": "python",
   "pygments_lexer": "ipython2",
   "version": "2.7.15"
  }
 },
 "nbformat": 4,
 "nbformat_minor": 2
}
