{
 "cells": [
  {
   "cell_type": "code",
   "execution_count": 8,
   "metadata": {},
   "outputs": [],
   "source": [
    "import glob"
   ]
  },
  {
   "cell_type": "code",
   "execution_count": 13,
   "metadata": {},
   "outputs": [
    {
     "name": "stdout",
     "output_type": "stream",
     "text": [
      "train_list_1hem_last_log10signed.csv\n",
      "train_list_1hem_last_linsigned.csv\n",
      "train_list_10ar_last_log10abs.csv\n",
      "train_list_50ar_last_linsigned.csv\n",
      "train_list_50ar_last_log10signed.csv\n",
      "train_list_50ar_last_log10rotate.csv\n",
      "train_list_50ar_last_linabs.csv\n",
      "train_list_50ar_last_log10abs.csv\n",
      "train_list_50ar_last_linrotate.csv\n"
     ]
    }
   ],
   "source": [
    "blank = open('blank_train.sh').readlines()\n",
    "test_lists=glob.glob('/home/zenalisa/data/*_last/lists/train_list_*.csv')# + glob.glob('/home/zenalisa/data/fixed_aia_lists/rotate_lists/test_list_*.csv')\n",
    "#depth='testdepth'\n",
    "#iters='250000'\n",
    "#print(len(test_lists))\n",
    "for t in test_lists:\n",
    "    #print(t)\n",
    "    jobname=t.split('/')[-1].replace('_list', '').split('.')[0]\n",
    "    testlist=t.split('/')[-1]\n",
    "    print(testlist)\n",
    "    #and this is where I desperately wish I'd been more consistent in naming this stuff\n",
    "    if '10ar' in testlist:\n",
    "        modelname='10ar'\n",
    "        dataset='10ar_last'\n",
    "    elif '1hem' in testlist or 'south' in testlist:\n",
    "        dataset='1hem_last'\n",
    "        if 'log10' in testlist:\n",
    "            modelname='52log101hem'\n",
    "        if 'lin' in testlist:\n",
    "            modelname='52lin1hem'\n",
    "    elif 'rotate' in testlist:\n",
    "        dataset='50ar_last'\n",
    "        if 'log10' in testlist:\n",
    "            modelname='52log10rotate'\n",
    "        else:\n",
    "            modelname='52linrotate'\n",
    "    elif 'abs' in testlist:\n",
    "        dataset='50ar_last'\n",
    "        if 'log10' in testlist:\n",
    "            modelname='52log10abs'\n",
    "        else:\n",
    "            modelname='52linabs'\n",
    "    elif 'signed' in testlist:\n",
    "        dataset='10ar_last'\n",
    "        if 'log10' in testlist:\n",
    "            modelname='21log10signed'\n",
    "        else:\n",
    "            continue #the unbalanced ones got in there too :/\n",
    "        \n",
    "    #print(t)\n",
    "    new_slurm='/home/zenalisa/data/50ar_last/scripts/'+jobname+'.sh'\n",
    "    #print(jobname)\n",
    "    #print(new_slurm)\n",
    "    new_slurm=open(new_slurm, 'w')\n",
    "    new_slurm.write(blank[0])\n",
    "    new_slurm.write(blank[1])\n",
    "    new_slurm.write(blank[2].replace('JOBNAME', jobname))\n",
    "    new_slurm.write(blank[3].replace('JOBNAME', jobname))\n",
    "    \n",
    "    for l in range(4, 13):\n",
    "        new_slurm.write(blank[l])\n",
    "    new_slurm.write('\\n')\n",
    "    new_slurm.write(blank[14].replace('TRAINLIST', testlist).replace('MODELNAME', modelname) )\n",
    "    new_slurm.write(blank[15])#.replace('TESTLIST', testlist))\n",
    "    new_slurm.write(blank[16].replace('TRAINLIST', testlist).replace('JOBNAME', jobname).replace('MODELNAME', modelname).replace('DATASET', dataset))#.replace('DEPTH', depth).replace('ITERS', iters))\n",
    "    new_slurm.close()\n",
    "    #break"
   ]
  },
  {
   "cell_type": "code",
   "execution_count": null,
   "metadata": {},
   "outputs": [],
   "source": []
  }
 ],
 "metadata": {
  "kernelspec": {
   "display_name": "Python 2",
   "language": "python",
   "name": "python2"
  },
  "language_info": {
   "codemirror_mode": {
    "name": "ipython",
    "version": 2
   },
   "file_extension": ".py",
   "mimetype": "text/x-python",
   "name": "python",
   "nbconvert_exporter": "python",
   "pygments_lexer": "ipython2",
   "version": "2.7.15"
  }
 },
 "nbformat": 4,
 "nbformat_minor": 2
}
