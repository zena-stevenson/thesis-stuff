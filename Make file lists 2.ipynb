{
 "cells": [
  {
   "cell_type": "code",
   "execution_count": 1,
   "metadata": {},
   "outputs": [],
   "source": [
    "import csv\n",
    "import glob\n",
    "from astropy.io import fits\n",
    "import matplotlib.pyplot as plt\n",
    "import os\n",
    "from PIL import Image\n",
    "import numpy as np\n",
    "import sys\n",
    "import random\n",
    "import datetime\n",
    "import traceback\n",
    "\n",
    "#wow this is a Lot huh. and only growing"
   ]
  },
  {
   "cell_type": "markdown",
   "metadata": {},
   "source": [
    "I should really make this more modular since I'm gonna be using it many, many times... but since I always end up having to go in and clean up the file lists by hand a little bit anyway, "
   ]
  },
  {
   "cell_type": "markdown",
   "metadata": {},
   "source": [
    "Makes list of all files- just fits for now"
   ]
  },
  {
   "cell_type": "markdown",
   "metadata": {},
   "source": [
    "\n",
    "aia_files = '/home/zenalisa/data/aia/*/*.fits'\n",
    "hmi_files = '/home/zenalisa/data/hmi/*/*.fits'\n",
    "table = open('/home/zenalisa/data/AR_list_new.csv', 'w')\n",
    "\n",
    "\n",
    "aia_file_list = glob.glob(aia_files)\n",
    "hmi_file_list = glob.glob(hmi_files)\n",
    "\n",
    "#print len(hmi_file_list)\n",
    "#print len(aia_file_list) #these don't match- I feel like that might not be a good sign\n",
    "\n",
    "w = csv.writer(table, delimiter = ',')\n",
    "\n",
    "for n in range(len(aia_file_list)):\n",
    "    \n",
    "    try:\n",
    "        w.writerow([aia_file_list[n], hmi_file_list[n]])\n",
    "    except IndexError:\n",
    "        w.writerow([aia_file_list[n], ''])\n",
    "        \n",
    "        break\n",
    "        \n",
    "table.close()\n",
    "#print 'Done'"
   ]
  },
  {
   "cell_type": "code",
   "execution_count": 2,
   "metadata": {},
   "outputs": [],
   "source": [
    "def fits_to_tiff(filepath, img_type, outp_name=None):\n",
    "\n",
    "    name, ext = os.path.splitext(filepath)\n",
    "    \n",
    "    if not outp_name:\n",
    "        outp_name = name.replace(name.split('/')[-2], name.split('/')[-2]+'/tiff') #places new files in separate directory\n",
    "    \n",
    "    img = fits.open(filepath)\n",
    "    img.verify('fix')\n",
    "\n",
    "    #img.info()\n",
    "\n",
    "    data = img[1].data #has to be img[1]\n",
    "    width = data.shape[1]\n",
    "    height = data.shape[0]\n",
    "    \n",
    "    \n",
    "    if img_type == 'aia':\n",
    "        data = np.log10(data - data.min()+1)\n",
    "    elif img_type == 'hmi':\n",
    "        data = abs(data)\n",
    "        data = data - data.min()\n",
    "            \n",
    "    data = data.astype(float)/data.max() * 225 #normalize data and multiply by 225 to map to uint8 values\n",
    "    \n",
    "    outputArray = np.array(data, dtype=np.uint8)\n",
    "\n",
    "    output = Image.fromarray(outputArray.reshape((height, width)), \"L\")\n",
    "\n",
    "    if not os.path.exists(outp_name + '/' +  name.split('/')[-2]):\n",
    "        os.makedirs(outp_name + '/' +  name.split('/')[-2])\n",
    "    \n",
    "    output.save(outp_name + '/' +  name.split('/')[-2]+ '/'+ name.split('/')[-1]+\".tiff\")\n",
    "    img.close()\n",
    "    \n",
    "    return(outp_name + '/' +  name.split('/')[-2]+ '/'+ name.split('/')[-1]+\".tiff\")"
   ]
  },
  {
   "cell_type": "code",
   "execution_count": 3,
   "metadata": {},
   "outputs": [],
   "source": [
    "#for sorting file lists by time\n",
    "def timestamp(filename):\n",
    "    t = filename.split('/')[-1].split('.')[2]\n",
    "    return t"
   ]
  },
  {
   "cell_type": "code",
   "execution_count": 4,
   "metadata": {},
   "outputs": [],
   "source": [
    "def timediff(file1, file2):\n",
    "    \n",
    "    try:\n",
    "        file1_time = file1.split('/')[-1].split('.')[2].split('Z')[0]\n",
    "        file1_time = datetime.datetime.strptime(file1_time, '%Y-%m-%dT%H%M%S')\n",
    "    except ValueError:\n",
    "        file1_time = file1.split('/')[-1].split('.')[2].split('TAI')[0]\n",
    "        file1_time = datetime.datetime.strptime(file1_time, '%Y%m%d_%H%M%S_')\n",
    "        \n",
    "    try:\n",
    "        file2_time = file2.split('/')[-1].split('.')[2].split('Z')[0]\n",
    "        file2_time = datetime.datetime.strptime(file2_time, '%Y-%m-%dT%H%M%S')\n",
    "    except ValueError:\n",
    "        file2_time = file2.split('/')[-1].split('.')[2].split('TAI')[0]\n",
    "        file2_time = datetime.datetime.strptime(file2_time, '%Y%m%d_%H%M%S_')\n",
    "    \n",
    "\n",
    "    return abs(file1_time - file2_time)\n",
    "    "
   ]
  },
  {
   "cell_type": "code",
   "execution_count": 7,
   "metadata": {},
   "outputs": [
    {
     "name": "stdout",
     "output_type": "stream",
     "text": [
      "2916 2916\n",
      "[1298, 2187, 2436]\n"
     ]
    }
   ],
   "source": [
    "#make (and sort and clean up) master lists of files\n",
    "\n",
    "\n",
    "aia_files = '/mnt/zena/AIA/'\n",
    "hmi_files = '/mnt/zena/active_regions/'\n",
    "aia_file_list = []\n",
    "hmi_file_list = []\n",
    "\n",
    "regions=[2227, 1503, 1849, 2369, 1106, 2394, 1938, 2101, 2390, 2541] #already used in 190604\n",
    "newregions = []\n",
    "#last (newARs):[1298, 2187, 2436]\n",
    "n = 3\n",
    "while len(newregions) < n:\n",
    "    r = random.randint(1076, 2693)\n",
    "    if os.path.exists(hmi_files+str(r)) and os.path.exists(aia_files+str(r)) and r not in regions:\n",
    "        #print 'HERE' #if this takes >10s to run, try this- drive may not be mounted\n",
    "        newregions.append(r)\n",
    "        \n",
    "        aia_temp = glob.glob(aia_files+str(r)+'/*.fits')\n",
    "        aia_temp.sort(key = timestamp)\n",
    "        hmi_temp = glob.glob(hmi_files+str(r)+'/*.fits')\n",
    "        hmi_temp.sort(key = timestamp)\n",
    "        \n",
    "        if aia_temp == [] or hmi_temp == []:#there seems to be some empty directories... remind me to look into that later\n",
    "            continue\n",
    "        \n",
    "        \n",
    "        if len(hmi_temp) <= len(aia_temp):\n",
    "            shortlist = hmi_temp\n",
    "            longlist = aia_temp\n",
    "        else:\n",
    "            shortlist = aia_temp\n",
    "            longlist = hmi_temp\n",
    "        \n",
    "        #print len(longlist), len(shortlist)\n",
    "        try:\n",
    "            for i in range(len(shortlist)):\n",
    "                dt = timediff(shortlist[i], longlist[i])\n",
    "                j = 0\n",
    "                while dt > datetime.timedelta(seconds=720):\n",
    "                    k = i + j\n",
    "                    del longlist[k]\n",
    "                    j += 1\n",
    "                    dt = timediff(shortlist[i], longlist[k+1])\n",
    "                    #print dt\n",
    "        \n",
    "        \n",
    "        except IndexError:\n",
    "            pass\n",
    "            \n",
    "        #print len(longlist), len(shortlist)\n",
    "        #break\n",
    "        for i in range(len(shortlist)):\n",
    "            #print timediff(shortlist[i], longlist[i])\n",
    "            try:\n",
    "                if timediff(shortlist[i], longlist[i]) > datetime.timedelta(seconds=720):\n",
    "                    del shortlist[i]\n",
    "                    del longlist[i]\n",
    "                    continue\n",
    "                #print timediff(shortlist[i], longlist[i])\n",
    "        \n",
    "            except IndexError:\n",
    "                shortlist = shortlist[:i-1]\n",
    "                longlist = longlist[:i-1]\n",
    "                break\n",
    "        \n",
    "        #print len(longlist), len(shortlist)\n",
    "        \n",
    "        \n",
    "        #current goal- make sure these two lists only contain images that correspond to an image in the other list\n",
    "        #before appending them to the master lists.\n",
    "        if len(longlist) == len(shortlist):\n",
    "            if 'AIA' in longlist[0]:\n",
    "                    aia_file_list += longlist\n",
    "                    hmi_file_list += shortlist\n",
    "            else:\n",
    "                    aia_file_list += shortlist\n",
    "                    hmi_file_list += longlist\n",
    "\n",
    "\n",
    "\n",
    "print len(hmi_file_list), len(aia_file_list)\n",
    "print newregions\n",
    "#last (190604): [2227, 1503, 1849, 2369, 1106, 2394, 1938, 2101, 2390, 2541]"
   ]
  },
  {
   "cell_type": "markdown",
   "metadata": {},
   "source": [
    "for a in aia_file_list:\n",
    "    print a"
   ]
  },
  {
   "cell_type": "markdown",
   "metadata": {},
   "source": [
    "for i in range(len(shortlist)):\n",
    "    #print timediff(shortlist[i], longlist[i])\n",
    "    try:\n",
    "        if timediff(shortlist[i], longlist[i]) > datetime.timedelta(seconds=720):\n",
    "            del shortlist[i]\n",
    "            del longlist[i]\n",
    "            continue\n",
    "        #print timediff(shortlist[i], longlist[i])\n",
    "        \n",
    "    except IndexError:\n",
    "        shortlist = shortlist[:i-1]\n",
    "        longlist = longlist[:i-1]\n",
    "        break\n",
    "        \n",
    "print len(longlist), len(shortlist)"
   ]
  },
  {
   "cell_type": "code",
   "execution_count": null,
   "metadata": {},
   "outputs": [],
   "source": []
  },
  {
   "cell_type": "markdown",
   "metadata": {},
   "source": [
    "#check if aia and hmi files actually match up 1 to 1 by comparing timestamps\n",
    "import datetime\n",
    "\n",
    "for i in range(len(aia_file_list)):\n",
    "    aia_file = aia_file_list[i]\n",
    "    hmi_file = hmi_file_list[i]\n",
    "    \n",
    "    aia_time = aia_file.split('/')[-1].split('.')[2].split('Z')[0]\n",
    "    hmi_time = hmi_file.split('/')[-1].split('.')[2].split('TAI')[0]\n",
    "    \n",
    "    aia_time = datetime.datetime.strptime(aia_time, '%Y-%m-%dT%H%M%S')\n",
    "    hmi_time = datetime.datetime.strptime(hmi_time, '%Y%m%d_%H%M%S_')\n",
    "    print hmi_time - aia_time\n",
    "    #break\n",
    "    "
   ]
  },
  {
   "cell_type": "code",
   "execution_count": 2,
   "metadata": {},
   "outputs": [
    {
     "name": "stderr",
     "output_type": "stream",
     "text": [
      "WARNING: VerifyWarning: Verification reported errors: [astropy.io.fits.verify]\n",
      "WARNING: VerifyWarning: HDU 1: [astropy.io.fits.verify]\n",
      "WARNING: VerifyWarning:     Card 67: [astropy.io.fits.verify]\n",
      "WARNING: VerifyWarning:         Card 'OSCNMEAN' is not FITS standard (invalid value string: '-nan').  Fixed 'OSCNMEAN' card to meet the FITS standard. [astropy.io.fits.verify]\n",
      "WARNING: VerifyWarning:     Card 68: [astropy.io.fits.verify]\n",
      "WARNING: VerifyWarning:         Card 'OSCNRMS' is not FITS standard (invalid value string: '-nan').  Fixed 'OSCNRMS' card to meet the FITS standard. [astropy.io.fits.verify]\n",
      "WARNING: VerifyWarning: Note: astropy.io.fits uses zero-based indexing.\n",
      " [astropy.io.fits.verify]\n"
     ]
    },
    {
     "data": {
      "text/plain": [
       "<matplotlib.image.AxesImage at 0x7f4c3c532a90>"
      ]
     },
     "execution_count": 2,
     "metadata": {},
     "output_type": "execute_result"
    },
    {
     "data": {
      "image/png": "[encoded data removed]",
      "text/plain": [
       "<Figure size 432x288 with 1 Axes>"
      ]
     },
     "metadata": {},
     "output_type": "display_data"
    }
   ],
   "source": [
    "#I don't remember what this one was, just a test hopefully\n",
    "image_file = \"/mnt/zena/AIA/1567/aia.lev1_euv_12s.2012-09-07T235925Z.304.image.fits\"\n",
    "\n",
    "hdu_list = fits.open(image_file)\n",
    "hdu_list.verify('fix') \n",
    "#hdu_list.info()\n",
    "\n",
    "image_data = hdu_list[1].data\n",
    "\n",
    "hdu_list.close()\n",
    "\n",
    "plt.imshow(abs(image_data),cmap='gray')"
   ]
  },
  {
   "cell_type": "code",
   "execution_count": 8,
   "metadata": {},
   "outputs": [
    {
     "name": "stdout",
     "output_type": "stream",
     "text": [
      "0\n"
     ]
    },
    {
     "name": "stderr",
     "output_type": "stream",
     "text": [
      "WARNING: VerifyWarning: Verification reported errors: [astropy.io.fits.verify]\n",
      "WARNING: VerifyWarning: HDU 1: [astropy.io.fits.verify]\n",
      "WARNING: VerifyWarning:     Card 67: [astropy.io.fits.verify]\n",
      "WARNING: VerifyWarning:         Card 'OSCNMEAN' is not FITS standard (invalid value string: 'nan').  Fixed 'OSCNMEAN' card to meet the FITS standard. [astropy.io.fits.verify]\n",
      "WARNING: VerifyWarning:     Card 68: [astropy.io.fits.verify]\n",
      "WARNING: VerifyWarning:         Card 'OSCNRMS' is not FITS standard (invalid value string: 'nan').  Fixed 'OSCNRMS' card to meet the FITS standard. [astropy.io.fits.verify]\n",
      "WARNING: VerifyWarning: Note: astropy.io.fits uses zero-based indexing.\n",
      " [astropy.io.fits.verify]\n",
      "WARNING: VerifyWarning:     Card 74: [astropy.io.fits.verify]\n",
      "WARNING: VerifyWarning:         Card 'CRDER1' is not FITS standard (invalid value string: 'nan').  Fixed 'CRDER1' card to meet the FITS standard. [astropy.io.fits.verify]\n",
      "WARNING: VerifyWarning:     Card 75: [astropy.io.fits.verify]\n",
      "WARNING: VerifyWarning:         Card 'CRDER2' is not FITS standard (invalid value string: 'nan').  Fixed 'CRDER2' card to meet the FITS standard. [astropy.io.fits.verify]\n",
      "WARNING: VerifyWarning:     Card 76: [astropy.io.fits.verify]\n",
      "WARNING: VerifyWarning:         Card 'CSYSER1' is not FITS standard (invalid value string: 'nan').  Fixed 'CSYSER1' card to meet the FITS standard. [astropy.io.fits.verify]\n",
      "WARNING: VerifyWarning:     Card 77: [astropy.io.fits.verify]\n",
      "WARNING: VerifyWarning:         Card 'CSYSER2' is not FITS standard (invalid value string: 'nan').  Fixed 'CSYSER2' card to meet the FITS standard. [astropy.io.fits.verify]\n"
     ]
    },
    {
     "name": "stdout",
     "output_type": "stream",
     "text": [
      "100\n",
      "200\n",
      "300\n",
      "400\n",
      "500\n",
      "600\n",
      "700\n",
      "800\n"
     ]
    },
    {
     "name": "stderr",
     "output_type": "stream",
     "text": [
      "WARNING: VerifyWarning:         Card 'OSCNMEAN' is not FITS standard (invalid value string: '-nan').  Fixed 'OSCNMEAN' card to meet the FITS standard. [astropy.io.fits.verify]\n",
      "WARNING: VerifyWarning:         Card 'OSCNRMS' is not FITS standard (invalid value string: '-nan').  Fixed 'OSCNRMS' card to meet the FITS standard. [astropy.io.fits.verify]\n",
      "WARNING: VerifyWarning:     Card 78: [astropy.io.fits.verify]\n",
      "WARNING: VerifyWarning:     Card 79: [astropy.io.fits.verify]\n"
     ]
    },
    {
     "name": "stdout",
     "output_type": "stream",
     "text": [
      "900\n",
      "1000\n",
      "1100\n",
      "1200\n",
      "1300\n",
      "1400\n",
      "1500\n",
      "1600\n",
      "1700\n",
      "1800\n"
     ]
    },
    {
     "name": "stderr",
     "output_type": "stream",
     "text": [
      "WARNING: VerifyWarning:     Card 80: [astropy.io.fits.verify]\n"
     ]
    },
    {
     "name": "stdout",
     "output_type": "stream",
     "text": [
      "1900\n",
      "2000\n",
      "2100\n",
      "2200\n",
      "2300\n",
      "2400\n",
      "2500\n",
      "2600\n",
      "2700\n",
      "2800\n",
      "2900\n"
     ]
    }
   ],
   "source": [
    "#check fits files for nan's\n",
    "aia_file_list_new = []\n",
    "hmi_file_list_new = []\n",
    "for n in range(len(aia_file_list)):\n",
    "    if n%100 == 0:\n",
    "        print n\n",
    "    a_fits = fits.open(aia_file_list[n])\n",
    "    a_fits.verify('fix')\n",
    "    a = a_fits[1].data\n",
    "    h_fits = fits.open(hmi_file_list[n])\n",
    "    h_fits.verify('fix')\n",
    "    h = h_fits[1].data\n",
    "    \n",
    "    a_fits.close()\n",
    "    h_fits.close()\n",
    "    \n",
    "    if np.isnan(a).any() or np.isnan(h).any():\n",
    "        pass\n",
    "    else:\n",
    "        aia_file_list_new.append(aia_file_list[n])\n",
    "        hmi_file_list_new.append(hmi_file_list[n])\n",
    "        \n",
    "    \n",
    "    "
   ]
  },
  {
   "cell_type": "code",
   "execution_count": 9,
   "metadata": {},
   "outputs": [],
   "source": [
    "aia_file_list = aia_file_list_new\n",
    "hmi_file_list = hmi_file_list_new"
   ]
  },
  {
   "cell_type": "code",
   "execution_count": 10,
   "metadata": {},
   "outputs": [
    {
     "name": "stdout",
     "output_type": "stream",
     "text": [
      "0\n",
      "100\n",
      "200\n",
      "300\n",
      "400\n",
      "500\n",
      "600\n",
      "700\n",
      "800\n",
      "900\n",
      "1000\n",
      "1100\n",
      "1200\n",
      "1300\n",
      "1400\n",
      "1500\n",
      "1600\n",
      "1700\n",
      "1800\n",
      "1900\n",
      "2000\n",
      "2100\n",
      "2200\n",
      "2300\n",
      "2400\n",
      "2500\n",
      "2600\n",
      "2700\n",
      "2800\n",
      "2900\n",
      "Done\n"
     ]
    }
   ],
   "source": [
    "table = open('/home/zenalisa/data/file_list_newARs.csv', 'w')\n",
    "#uncomment when we're ready to convert to tiff\n",
    "w = csv.writer(table, delimiter = ',')\n",
    "w.writerow(['path_signal', 'path_target'])\n",
    "i = 0\n",
    "for n in range(len(aia_file_list)):\n",
    "\n",
    "    try:\n",
    "        a = fits_to_tiff(aia_file_list[n], 'aia', outp_name='/home/zenalisa/data/newARs/aia')\n",
    "        h = fits_to_tiff(hmi_file_list[n], 'hmi', outp_name='/home/zenalisa/data/newARs/hmi')\n",
    "        \n",
    "        w.writerow([a, h])\n",
    "\n",
    "    \n",
    "    except IndexError: #I don't remember why I had this here?\n",
    "        pass\n",
    "    if n%100 ==0:\n",
    "        print n\n",
    "\n",
    "        \n",
    "table.close()\n",
    "print 'Done'"
   ]
  },
  {
   "cell_type": "code",
   "execution_count": 12,
   "metadata": {},
   "outputs": [],
   "source": [
    "#regions = [1109, 1364, 1951, 2013, 2310, 1872, 2017, 2641, 1438] #don't remember what these were used for but it wasnt 190604\n",
    "#train = open('/home/zenalisa/data/train_list_190604.csv', 'w')\n",
    "test = open('/home/zenalisa/data/test_list_newARs.csv', 'w')\n",
    "#biglist = '/home/zenalisa/data/file_list_190322.csv'\n",
    "#w = csv.writer(train, delimiter = ',')\n",
    "#w.writerow(['path_signal', 'path_target'])\n",
    "v = csv.writer(test, delimiter = ',')\n",
    "v.writerow(['path_signal', 'path_target'])\n",
    "for r in newregions:\n",
    "    region_list = glob.glob('/home/zenalisa/data/newARs/aia/'+str(r)+'/*.tiff')\n",
    "    region_list2 = glob.glob('/home/zenalisa/data/newARs/hmi/'+str(r)+'/*.tiff')\n",
    "    #nfiles = int(len(region_list)*9./10)\n",
    "    #trainfilenums = random.sample(range(1, len(region_list)), nfiles)\n",
    "    #for t in trainfilenums:\n",
    "    #    a = region_list[t]\n",
    "    #    h = region_list2[t]\n",
    "    #    #print a, h\n",
    "    #    w.writerow([a, h])\n",
    "    testfilenums = [r for r in range(len(region_list))]# if r not in trainfilenums]\n",
    "    for t in testfilenums:\n",
    "        a = region_list[t]\n",
    "        h = region_list2[t]\n",
    "        #print a, h\n",
    "        v.writerow([a, h])"
   ]
  },
  {
   "cell_type": "markdown",
   "metadata": {},
   "source": [
    "#chooses random image pairs from biglist to use as training images\n",
    "\n",
    "train = open('/home/zenalisa/data/train_list_2.csv', 'w')\n",
    "\n",
    "biglist = '/home/zenalisa/data/biglist.csv'\n",
    "\n",
    "ntrain=560 #number of training images\n",
    "\n",
    "with open(biglist) as f:\n",
    "    lines = sum(1 for line in f)\n",
    "    #print lines #number of files in biglist\n",
    "    #line_number = random.randrange(lines)\n",
    "randrows = random.sample(range(1, lines), ntrain)    \n",
    "#print randrows"
   ]
  },
  {
   "cell_type": "markdown",
   "metadata": {},
   "source": [
    "#writes paths to randomly chosen training images into table of training images\n",
    "for r in randrows:\n",
    "    #print r\n",
    "    with open(biglist) as f:\n",
    "        reader = csv.reader(f)\n",
    "        w = csv.writer(train, delimiter = ',')\n",
    "\n",
    "        chosen_row = next(row for row_number, row in enumerate(reader)\n",
    "                          if row_number == r)\n",
    "        #print chosen_row    \n",
    "        w.writerow([str(chosen_row[0]), str(chosen_row[1])])\n"
   ]
  },
  {
   "cell_type": "markdown",
   "metadata": {},
   "source": [
    "#chooses random testing images from biglist, ensures that they aren't also being used as training images\n",
    "ntest = 150 #number of testing images\n",
    "w = csv.writer(test, delimiter = ',')\n",
    "\n",
    "randrows_test = random.sample(range(1, lines), ntest)\n",
    "randrows_test = list(set(randrows_test)-set(randrows))\n",
    "#print len(randrows_test)\n",
    "\n",
    "while len(randrows_test) < ntest:\n",
    "    new = random.sample(range(1, lines), 1) #will only return a list, unfortunately. Hence new[0]'s below\n",
    "    if new[0] not in randrows:\n",
    "        randrows_test.append(new[0])\n",
    "    #print len(randrows_test) #for if you want to see it count up \n",
    "print len(randrows_test)==ntest #if you don't get True something done goofed"
   ]
  },
  {
   "cell_type": "markdown",
   "metadata": {},
   "source": [
    "#writes paths to randomly chosen testing images into table of testing images\n",
    "test = open('/home/zenalisa/data/test_list_2.csv', 'w')\n",
    "for r in randrows_test:\n",
    "    #print r\n",
    "    with open(biglist) as f:\n",
    "        reader = csv.reader(f)\n",
    "        w = csv.writer(test, delimiter = ',')\n",
    "\n",
    "        chosen_row = next(row for row_number, row in enumerate(reader)\n",
    "                          if row_number == r)\n",
    "        #print chosen_row    \n",
    "        w.writerow([str(chosen_row[0]), str(chosen_row[1])])"
   ]
  }
 ],
 "metadata": {
  "kernelspec": {
   "display_name": "Python 2",
   "language": "python",
   "name": "python2"
  },
  "language_info": {
   "codemirror_mode": {
    "name": "ipython",
    "version": 2
   },
   "file_extension": ".py",
   "mimetype": "text/x-python",
   "name": "python",
   "nbconvert_exporter": "python",
   "pygments_lexer": "ipython2",
   "version": "2.7.15"
  }
 },
 "nbformat": 4,
 "nbformat_minor": 2
}
