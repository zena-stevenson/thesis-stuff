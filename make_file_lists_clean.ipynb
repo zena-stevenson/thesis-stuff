{
 "cells": [
  {
   "cell_type": "markdown",
   "id": "f7f96e9f",
   "metadata": {},
   "source": [
    "questionable of me to name this notebook as if it's the kid-friendly version of my new rap album but this is the less messy, more organized, better documented version that I'd recommend for anyone using this code in the future. My train wreck version is just make_file_lists, I'll probably include that one too just in case the solution to any future problems is buried in that mess, but. This is the friendly one use this one"
   ]
  },
  {
   "cell_type": "code",
   "execution_count": 1,
   "id": "e4a02f14",
   "metadata": {},
   "outputs": [],
   "source": [
    "#import stuff. way too much stuff, I keep not bothering to take out the ones that weren't actually used in the final version, sorry,\n",
    "import csv\n",
    "import glob\n",
    "from astropy.io import fits\n",
    "import matplotlib.pyplot as plt\n",
    "import os\n",
    "from PIL import Image\n",
    "import numpy as np\n",
    "import sys\n",
    "import random\n",
    "import datetime\n",
    "import traceback\n",
    "from tqdm import tqdm\n",
    "import pandas as pd"
   ]
  },
  {
   "cell_type": "markdown",
   "id": "1aef0051",
   "metadata": {},
   "source": [
    "### define functions"
   ]
  },
  {
   "cell_type": "code",
   "execution_count": 2,
   "id": "b4f9c6d8",
   "metadata": {},
   "outputs": [],
   "source": [
    "def fits_to_tiff(filepath, img_type, r=False, outp_name=None, absval=False, log_10=True):\n",
    "    '''Does the conversion from .fits data to .tiff images, saves .tiff files under new name and directory. \n",
    "    Inputs: filepath (string, full path to the file ie '/home/zenalisa/data/dataset_name/AR_number/filename.fits' )\n",
    "            img_type (string, either 'aia' or 'hmi'. Have to specify because they need slightly different preprocessing steps before converting to a uint8 image)\n",
    "            r (bool flag that controls whether or not to rotate the data- leftover from when I randomly rotated the training data by either 0 or 180 degrees to artificially remove any hemisphere bias, should be able to leave as False. If you did want to rotate, you'd want to randomly set r=True half the time you call this function, and be sure to have the same random flag for both the AIA and corresponding HMI image.)\n",
    "            outp_name (string, new output directory for .tiff files. If left as default, will add /tiff just before the AR number in filepath argument to make a new directory and save there. ie if the original fits location is '/home/zenalisa/data/dataset_name/AR_number/file_name.fits', default output location is '/home/zenalisa/data/dataset_name/tiff', and new file will save as '/home/zenalisa/data/dataset_name/tiff/AR_number/file_name.tiff'. I didn't use the default often, preferred to specify my own new output spot, but kept it so I never accidentally mixed the tiff files in with the fits.)\n",
    "            absval (bool flag controls whether or not to take absolute value of HMI data. Less relevant now/ should stay False since we're doing this for signed magnetograms, but I'll leave it in case anybody ever wants to use it.)\n",
    "            log_10 (bool flag that controls whether or not to take log10 of AIA data. Can probably be left as True, but again I'll leave the option just in case.)\n",
    "    Outputs: string name of new .tiff file, min data value, max data value.\n",
    "    Notes: Current version doesn't do any clipping to AIA data before converting to uint8, just scales each image according to its own min and max values. I wrote more on why that's not the best way to do this and why I did it anyway in the thesis, but it's something to be aware of (and fix, in my opinion) if you're improving on this process in the future. I added some notes in the readme too on some weird technical difficulties that popped up when I did try the AIA clipping, highly recommend taking a peek at that if you're tackling the clipping problem, might spare you from the multiple days of NaN hunting that I suffered through.'''\n",
    "\n",
    "    name, ext = os.path.splitext(filepath)\n",
    "    \n",
    "    if not outp_name:\n",
    "        outp_name = name.replace(name.split('/')[-2], name.split('/')[-2]+'/tiff') #places new files in separate directory\n",
    "    \n",
    "    img = fits.open(filepath)\n",
    "    img.verify('fix')\n",
    "\n",
    "    #img.info()\n",
    "\n",
    "    data = img[1].data #has to be img[1]\n",
    "    \n",
    "    if r:\n",
    "        data=np.rot90(data)\n",
    "        data=np.rot90(data)\n",
    "    \n",
    "    width = data.shape[1]\n",
    "    height = data.shape[0]\n",
    "    \n",
    "    #aia_max=2550 \n",
    "    #aia_min=1 #helps with log yelling at me\n",
    "    hmi_offset=2550\n",
    "    \n",
    "    if img_type == 'aia':\n",
    "        \n",
    "        if log_10:\n",
    "            data = np.log10(data - np.amin(data))\n",
    "        else:\n",
    "            data=data-np.amin(data)\n",
    "        \n",
    "        data=data.astype(float)/np.amax(data)*255\n",
    "        data=np.round(data)\n",
    "        data=data.astype(np.uint8)\n",
    "    \n",
    "            \n",
    "        \n",
    "    elif img_type == 'hmi':\n",
    "        if absval:\n",
    "            data = abs(data)\n",
    "        \n",
    "        data[data>hmi_offset]=hmi_offset\n",
    "        data[data<-hmi_offset]=-hmi_offset\n",
    "        data=data+hmi_offset\n",
    "        data=data*255./(2*hmi_offset)\n",
    "        data=np.round(data)\n",
    "        data=data.astype(np.uint8)\n",
    "        \n",
    "    outputArray = np.array(data, dtype=np.uint8)\n",
    "\n",
    "    output = Image.fromarray(outputArray.reshape((height, width)), \"L\")\n",
    "\n",
    "    if not os.path.exists(outp_name + '/' +  name.split('/')[-2]):\n",
    "        os.makedirs(outp_name + '/' +  name.split('/')[-2])\n",
    "    \n",
    "    output.save(outp_name + '/' +  name.split('/')[-2]+ '/'+ name.split('/')[-1]+\".tiff\")\n",
    "    img.close()\n",
    "    \n",
    "    return(outp_name + '/' +  name.split('/')[-2]+ '/'+ name.split('/')[-1]+\".tiff\", data.min(), data.max())\n",
    "\n"
   ]
  },
  {
   "cell_type": "code",
   "execution_count": 3,
   "id": "f66864dd",
   "metadata": {},
   "outputs": [],
   "source": [
    "def timestamp(filename):\n",
    "    '''extracts timestamp, for sorting files by timestamp. used as 'key' argument in regular degular python sort() function\n",
    "    Input: string filename\n",
    "    Output: timestamp part of filename (also a string)'''\n",
    "    t = filename.split('/')[-1].split('.')[2]\n",
    "    return t"
   ]
  },
  {
   "cell_type": "code",
   "execution_count": 4,
   "id": "4ccb5eb4",
   "metadata": {},
   "outputs": [],
   "source": [
    "def timediff(file1, file2):\n",
    "    '''calculates difference in timestamps between two files. Used to make sure HMI and AIA files are close enough in time (within 720 seconds) to be an image pair.\n",
    "    Inputs: file1 and file2, paths to the fiels you want to compare. Doesn't matter which order you pass these in (file1=hmi, file2=aia or vice versa), try/except part of this function covers it both ways\n",
    "    Outputs: the absolute difference in seconds between the two files' timestamps.'''\n",
    "    \n",
    "    try:\n",
    "        file1_time = file1.split('/')[-1].split('.')[2].split('Z')[0]\n",
    "        file1_time = datetime.datetime.strptime(file1_time, '%Y-%m-%dT%H%M%S')\n",
    "    except ValueError:\n",
    "        file1_time = file1.split('/')[-1].split('.')[2].split('TAI')[0]\n",
    "        file1_time = datetime.datetime.strptime(file1_time, '%Y%m%d_%H%M%S_')\n",
    "        \n",
    "    try:\n",
    "        file2_time = file2.split('/')[-1].split('.')[2].split('Z')[0]\n",
    "        file2_time = datetime.datetime.strptime(file2_time, '%Y-%m-%dT%H%M%S')\n",
    "    except ValueError:\n",
    "        file2_time = file2.split('/')[-1].split('.')[2].split('TAI')[0]\n",
    "        file2_time = datetime.datetime.strptime(file2_time, '%Y%m%d_%H%M%S_')\n",
    "    \n",
    "\n",
    "    return abs(file1_time - file2_time)\n",
    "    "
   ]
  },
  {
   "cell_type": "code",
   "execution_count": 5,
   "id": "cb4d17ed",
   "metadata": {},
   "outputs": [],
   "source": [
    "def which_hem(fname, srs):\n",
    "    '''finds which hemisphere an active region formed in by finding and reading the AR's SRS (solar region summary) file. \n",
    "    Inputs: fname, string, path to the first image in the active region's directory\n",
    "    Outputs: h, string, 'N' if north hemisphere, 'S' if south.'''\n",
    "    \n",
    "    simple_date=fname.split('.')[-4].split('_')[0]\n",
    "    date=datetime.datetime.strptime(simple_date, '%Y%m%d')\n",
    "    srs_file=srs+str(date.year)+'_SRS/'+str(simple_date)+'SRS.txt'\n",
    "\n",
    "    srs_file=open(srs_file, 'r')\n",
    "    lines=srs_file.readlines()\n",
    "    for l in lines:\n",
    "        if 'I.  Regions with Sunspots.' in l:\n",
    "            start=lines.index(l)\n",
    "        if 'IA. H-alpha Plages without Spots.' in l:\n",
    "            stop=lines.index(l)\n",
    "            break\n",
    "    region_locs=lines[start+2:stop]\n",
    "    try:\n",
    "        for l in region_locs:\n",
    "            if l.split(' ')[0]==str(r):\n",
    "                h=l.split(' ')[1][0]\n",
    "                break\n",
    "        return h\n",
    "    except UnboundLocalError:\n",
    "        return('E') #I think once in a blue moon there's something funny in the srs file that throws this error. Upside of having so much data is I'm pretty sure we can just skip the AR if that happens"
   ]
  },
  {
   "cell_type": "markdown",
   "id": "6b4958b2",
   "metadata": {},
   "source": [
    "### Make lists of files\n",
    "and sort those lists by timestamp and delete invalid image pairs from the lists and etc. A lot happens all at once in this block (and the next few blocks too actually) so that it runs faster/doesn't have to loop over the files a million times, I sacrificed readability and simplicity for that and I'm not really sorry about it"
   ]
  },
  {
   "cell_type": "code",
   "execution_count": 15,
   "id": "699321a0",
   "metadata": {},
   "outputs": [
    {
     "name": "stdout",
     "output_type": "stream",
     "text": [
      "370952 370952\n",
      "[1076, 1078, 1080, 1084, 1089, 1100, 1106, 1108, 1112, 1121, 1123, 1126, 1150, 1156, 1158, 1165, 1176, 1178, 1195, 1214, 1216, 1223, 1226, 1227, 1233, 1234, 1237, 1238, 1240, 1247, 1249, 1250, 1254, 1264, 1267, 1269, 1272, 1273, 1281, 1287, 1290, 1294, 1299, 1308, 1311, 1313, 1316, 1317, 1320, 1327, 1329, 1338, 1340, 1344, 1345, 1346, 1351, 1352, 1354, 1363, 1367, 1368, 1370, 1373, 1374, 1378, 1379, 1380, 1381, 1382, 1385, 1386, 1387, 1388, 1389, 1397, 1399, 1400, 1403, 1411, 1412, 1414, 1416, 1418, 1428, 1431, 1434, 1435, 1436, 1437, 1438, 1440, 1445, 1448, 1449, 1453, 1454, 1456, 1459, 1462, 1463, 1465, 1469, 1470, 1471, 1472, 1473, 1477, 1478, 1480, 1481, 1483, 1485, 1489, 1490, 1492, 1495, 1497, 1502, 1504, 1505, 1507, 1508, 1509, 1510, 1512, 1514, 1515, 1519, 1520, 1521, 1523, 1524, 1525, 1526, 1529, 1530, 1532, 1533, 1536, 1538, 1539, 1540, 1541, 1542, 1544, 1545, 1549, 1552, 1553, 1561, 1562, 1563, 1564, 1568, 1569, 1570, 1571, 1574, 1576, 1579, 1582, 1584, 1585, 1586, 1590, 1594, 1595, 1597, 1598, 1599, 1601, 1602, 1606, 1608, 1609, 1610, 1613, 1617, 1620, 1622, 1627, 1633, 1634, 1639, 1642, 1643, 1645, 1649, 1650, 1655, 1657, 1658, 1663, 1666, 1672, 1673, 1677, 1679, 1680, 1682, 1683, 1685, 1686, 1688, 1689, 1698, 1699, 1700, 1705, 1706, 1707, 1709, 1710, 1711, 1716, 1717, 1721, 1722, 1723, 1724, 1729, 1730, 1732, 1733, 1734, 1735, 1736, 1740, 1741, 1746, 1747, 1749, 1750, 1751, 1756, 1757, 1758, 1759, 1761, 1762, 1763, 1767, 1769, 1770, 1771, 1772, 1774, 1775, 1777, 1778, 1780, 1782, 1784, 1785, 1786, 1787, 1788, 1789, 1790, 1791, 1795, 1796, 1797, 1798, 1799, 1800, 1803, 1805, 1806, 1810, 1813, 1814, 1816, 1817, 1818, 1819, 1820, 1822, 1823, 1824, 1827, 1830, 1835, 1837, 1838, 1839, 1840, 1841, 1845, 1846, 1848, 1851, 1852, 1855, 1857, 1859, 1860, 1861, 1862, 1863, 1864, 1865, 1870, 1872, 1874, 1877, 1879, 1881, 1882, 1884, 1885, 1888, 1889, 1890, 1891, 1892, 1893, 1894, 1895, 1897, 1898, 1900, 1901, 1903, 1906, 1907, 1908, 1909, 1911, 1912, 1914, 1915, 1916, 1917, 1918, 1919, 1925, 1928, 1929, 1930, 1931, 1933, 1934, 1935, 1936, 1937, 1938, 1940, 1941, 1944, 1949, 1951, 1952, 1953, 1955, 1956, 1958, 1959, 1960, 1961, 1962, 1963, 1964, 1965, 1966, 1967, 1969, 1970, 1971, 1972, 1974, 1975, 1976, 1977, 1980, 1981, 1982, 1983, 1984, 1987, 1988, 1990, 1991, 1992, 1994, 1998, 1999, 2000, 2002, 2004, 2008, 2010, 2011, 2012, 2014, 2015, 2016, 2020, 2021, 2025, 2026, 2028, 2035, 2036, 2037, 2038, 2041, 2043, 2045, 2047, 2049, 2051, 2052, 2054, 2058, 2059, 2060, 2061, 2062, 2065, 2066, 2068, 2069, 2071, 2072, 2073, 2074, 2075, 2076, 2077, 2078, 2080, 2084, 2085, 2087, 2088, 2091, 2092, 2093, 2094, 2098, 2099, 2101, 2103, 2104, 2105, 2107, 2108, 2109, 2110, 2112, 2114, 2116, 2119, 2122, 2123, 2124, 2125, 2126, 2127, 2128, 2129, 2130, 2131, 2132, 2137, 2143, 2144, 2145, 2147, 2150, 2151, 2152, 2153, 2154, 2155, 2157, 2159, 2160, 2161, 2163, 2164, 2165, 2168, 2171, 2172, 2173, 2178, 2179, 2181, 2182, 2184, 2185, 2186, 2187, 2191, 2192, 2194, 2196, 2197, 2198, 2199, 2200, 2201, 2206, 2207, 2208, 2209, 2213, 2214, 2216, 2217, 2220, 2222, 2224, 2225, 2226, 2227, 2229, 2230, 2231, 2235, 2237, 2241, 2242, 2244, 2247, 2248, 2251, 2252, 2253, 2254, 2255, 2256, 2259, 2261, 2262, 2265, 2266, 2268, 2270, 2273, 2274, 2275, 2276, 2278, 2280, 2285, 2288, 2289, 2292, 2294, 2295, 2296, 2297, 2298, 2299, 2301, 2305, 2306, 2307, 2314, 2315, 2316, 2319, 2320, 2323, 2327, 2329, 2331, 2332, 2334, 2335, 2337, 2340, 2341, 2344, 2346, 2348, 2349, 2350, 2354, 2355, 2356, 2358, 2359, 2364, 2365, 2367, 2375, 2377, 2378, 2379, 2382, 2383, 2384, 2389, 2390, 2392, 2396, 2397, 2399, 2401, 2403, 2405, 2410, 2412, 2414, 2415, 2416, 2418, 2422, 2423, 2425, 2429, 2430, 2431, 2432, 2434, 2435, 2437, 2438, 2444, 2449, 2450, 2452, 2461, 2463, 2464, 2465, 2466, 2467, 2468, 2471, 2476, 2481, 2486, 2487, 2490, 2493, 2494, 2495, 2500, 2506, 2515, 2516, 2523, 2526, 2533, 2537, 2538, 2543, 2545, 2546, 2547, 2549, 2553, 2555, 2560, 2561, 2562, 2568, 2576, 2580, 2584, 2597, 2599, 2607, 2609, 2615, 2620, 2624, 2631, 2637, 2639, 2645, 2648, 2653, 2658, 2660, 2665, 2670, 2673, 2675, 2676, 2681, 2682, 2685, 2687, 2691]\n",
      "0 691\n"
     ]
    }
   ],
   "source": [
    "#make (and sort and clean up) master lists of files\n",
    "\n",
    "#---------------------------\n",
    "#if you are not zena and are running this code,\n",
    "#CHECK THESE FILE LOCATIONS. they're specific to my directories and where I had the expernal hard drive full of data mounted. \n",
    "aia_files = '/mnt/zena/AIA/'\n",
    "hmi_files = '/mnt/zena/active_regions/'\n",
    "srs='/home/zenalisa/data/SRS/' #solar region summary files, to figure out which hemisphere an AR is in\n",
    "#---------------------------\n",
    "\n",
    "hems=1 #for signed HMI data. Should almost definitely always be set to 1. could set to either 1 (pick from one hemisphere) or 2 (pick equal amount of data from both). \n",
    "hem_list=[] #track the hemispheres of the AR's being used. mostly a debugging thing\n",
    "H = 'S' #the hemisphere you want. set accordingly ('N' or 'S')\n",
    "aia_file_list = []\n",
    "hmi_file_list = []\n",
    "min_images=1#want at least this many images per AR. changes based on how many AR's and whether it's train and test or just test so @me pls pay attention here\n",
    "\n",
    "newregions = []\n",
    "n = 10000 #number of AR's you want, ie 52. \n",
    "r=1075 #for #for when I did this for every AR instead of picking randomly\n",
    "while len(newregions) < n:\n",
    "    #if len(newregions)%100==0: #for hugelarge lists, lets you know if it's still making progress\n",
    "    #    print (len(newregions))\n",
    "    \n",
    "    #r = random.randint(1076, 2693) #pick a random AR\n",
    "    #----------------------------------------------\n",
    "    r+=1 #for when I did this for every AR instead of picking randomly- just step through all the AR's\n",
    "    #print(r)\n",
    "    if r>2693:\n",
    "        break #inelegant way to stop this huge loop once we've covered all the AR's\n",
    "    #----------------------------------------------\n",
    "    \n",
    "    if os.path.exists(hmi_files+str(r)) and os.path.exists(aia_files+str(r)) and r not in newregions:\n",
    "        \n",
    "        \n",
    "        #print ('HERE') #if this notebook cell takes way too long to run and it's not the first time you've tried to run it since starting the notebook, or if it runs super fast but doesn't find any files, uncomment this- if it doesn't print, external hard drive may not be mounted\n",
    "        newregions.append(r)\n",
    "        \n",
    "        #glob lists of files for the AR, sort lists by timestamp\n",
    "        aia_temp = glob.glob(aia_files+str(r)+'/*.fits')\n",
    "        aia_temp.sort(key = timestamp)\n",
    "        hmi_temp = glob.glob(hmi_files+str(r)+'/*.fits')\n",
    "        hmi_temp.sort(key = timestamp)\n",
    "        \n",
    "        if aia_temp == [] or hmi_temp == []:#there seems to be some empty directories... remind me to look into that later\n",
    "            newregions.remove(r)\n",
    "            continue\n",
    "        \n",
    "\n",
    "        #which list is shorter- could be aia, could be hmi, I prefer to not have to care\n",
    "        if len(hmi_temp) <= len(aia_temp):\n",
    "            shortlist = hmi_temp\n",
    "            longlist = aia_temp\n",
    "        else:\n",
    "            shortlist = aia_temp\n",
    "            longlist = hmi_temp\n",
    "        \n",
    "        #if there are too few images, remove/skip this AR\n",
    "        if len(shortlist)<min_images:\n",
    "            newregions.remove(r)\n",
    "            continue\n",
    "            \n",
    "        \n",
    "        #delete from the lists any image pairs whose timestamps are more than 720 seconds apart\n",
    "        try:\n",
    "            for i in range(len(shortlist)):\n",
    "                dt = timediff(shortlist[i], longlist[i])\n",
    "                j = 0\n",
    "                while dt > datetime.timedelta(seconds=720):\n",
    "                    k = i + j\n",
    "                    del longlist[k]\n",
    "                    j += 1\n",
    "                    dt = timediff(shortlist[i], longlist[k+1])\n",
    "                    #print dt\n",
    "        \n",
    "        \n",
    "        except IndexError:\n",
    "            pass\n",
    "            \n",
    "        \n",
    "            \n",
    "        #print len(longlist), len(shortlist)\n",
    "        #break\n",
    "        #print(shortlist[0])\n",
    "        \n",
    "        #--------------------------------------------\n",
    "        if hems==1: #go get SRS files to find out what hemisphere the AR is in\n",
    "            hemisphere=which_hem(hmi_temp[0], srs)\n",
    "            #print(hemisphere)      \n",
    "            if hemisphere != H:\n",
    "                newregions.remove(r)\n",
    "                continue #move on to a different AR if it's not in the hemisphere we want\n",
    "            hem_list.append(hemisphere)\n",
    "        #if hems==2: #to pick equal numbers from both hems but I don't think I ever actually used this, so if you Do use it, expect some silly errors probably\n",
    "        #    last_hem=hemisphere\n",
    "        #    hemisphere=which_hem(hmi_temp[0])\n",
    "        #    #print(hemisphere)      \n",
    "        #    if hemisphere == last_hem:#should give us alternating hemispheres for the AR's\n",
    "        #        newregions.remove(r)\n",
    "        #        continue #move on to a different AR if it's not in the hemisphere we want\n",
    "        #    hem_list.append(hemisphere)\n",
    "            #raise KeyError\n",
    "        #--------------------------------------------\n",
    "        \n",
    "        \n",
    "        #delete from the lists any image pairs whose timestamps are more than 720 seconds apart.\n",
    "        #@me test whether or not I actually needed to do this twice in two slightly different ways??? can I delete one of these blocks?\n",
    "        for i in range(len(shortlist)):\n",
    "\n",
    "            try:\n",
    "                if timediff(shortlist[i], longlist[i]) > datetime.timedelta(seconds=720):\n",
    "                    del shortlist[i]\n",
    "                    del longlist[i]\n",
    "                    continue\n",
    "                \n",
    "        \n",
    "            except IndexError:\n",
    "                shortlist = shortlist[:i-1]\n",
    "                longlist = longlist[:i-1]\n",
    "                break\n",
    "        \n",
    "        #for debugging\n",
    "        #for i in range(len(shortlist)):\n",
    "        #    print(timediff(shortlist[i], longlist[i]))\n",
    "        \n",
    "      \n",
    "        #since some AR's will have way more images than min_images, randomly select only as many as we need to carry forward to the next steps\n",
    "        #removed for doing whole dataset, put back in later\n",
    "        \n",
    "        #try:\n",
    "        #    randimg=random.sample(range(len(shortlist)), min_images)\n",
    "        #except ValueError: #if we've for a sample larger than the population\n",
    "        #    continue #just skip it and try again\n",
    "        #randimg.sort()\n",
    "        #shortlist=[shortlist[r] for r in randimg]\n",
    "        #longlist=[longlist[r] for r in randimg]\n",
    "        \n",
    "        #if each image in the lists has a pair\n",
    "        if len(longlist) == len(shortlist) and len(longlist)!=0:\n",
    "            #makes sure we add the AIA files to the AIA file list (and HMI files to HMI file list) and don't accidentally scramble them around, since either AIA or HMI might have been longlist or shortlist or vice versa \n",
    "            if 'AIA' in longlist[0]:\n",
    "                    aia_file_list += longlist\n",
    "                    hmi_file_list += shortlist\n",
    "            else:\n",
    "                    aia_file_list += shortlist\n",
    "                    hmi_file_list += longlist\n",
    "\n",
    "\n",
    "\n",
    "print(len(hmi_file_list), len(aia_file_list)) #to make sure they match\n",
    "print(newregions) #print list of AR's we'll be using\n",
    "print(hem_list.count('N'), hem_list.count('S')) #to make sure they're from the right hemisphere\n",
    "\n",
    "\n"
   ]
  },
  {
   "cell_type": "code",
   "execution_count": null,
   "id": "78b58b0f",
   "metadata": {},
   "outputs": [],
   "source": [
    "#extra optional bit, writes those lists to a csv file. only used when I did the whole dataset\n",
    "biglist=open('/home/zenalisa/data/whole_dataset/south_biglist.csv', 'w') #change accordingly\n",
    "w = csv.writer(biglist, delimiter = ',')\n",
    "w.writerow(['aia', 'hmi'])\n",
    "for f in tqdm(range(len(aia_file_list))):\n",
    "    w.writerow([aia_file_list[f], hmi_file_list[f]])\n",
    "biglist.close()"
   ]
  },
  {
   "cell_type": "markdown",
   "id": "ba274028",
   "metadata": {},
   "source": [
    "### check fits files for NaN's\n",
    "and then go get lunch or something. This one takes a while.\n",
    "\n",
    "Actually, never mind, you may never need to run this again since I'm doing it for the whole dataset as we speak. So *I'll* go get lunch (or take a weekend trip somewhere, at the rate it's going I have about 48 hours to kill), you just take a moment to appreciate me doing this part for you and then move on to the next block. if your models start shooting off to infinity or you find nan's in the data later maybe do come back and run this though"
   ]
  },
  {
   "cell_type": "code",
   "execution_count": null,
   "id": "e8a5479d",
   "metadata": {},
   "outputs": [
    {
     "name": "stderr",
     "output_type": "stream",
     "text": [
      "  0%|                                                | 0/380737 [00:00<?, ?it/s]WARNING: VerifyWarning: Verification reported errors: [astropy.io.fits.verify]\n",
      "WARNING: VerifyWarning: HDU 1: [astropy.io.fits.verify]\n",
      "WARNING: VerifyWarning:     Card 67: [astropy.io.fits.verify]\n",
      "WARNING: VerifyWarning:         Card 'OSCNMEAN' is not FITS standard (invalid value string: 'nan').  Fixed 'OSCNMEAN' card to meet the FITS standard. [astropy.io.fits.verify]\n",
      "WARNING: VerifyWarning:     Card 68: [astropy.io.fits.verify]\n",
      "WARNING: VerifyWarning:         Card 'OSCNRMS' is not FITS standard (invalid value string: 'nan').  Fixed 'OSCNRMS' card to meet the FITS standard. [astropy.io.fits.verify]\n",
      "WARNING: VerifyWarning: Note: astropy.io.fits uses zero-based indexing.\n",
      " [astropy.io.fits.verify]\n",
      "WARNING: VerifyWarning:     Card 74: [astropy.io.fits.verify]\n",
      "WARNING: VerifyWarning:         Card 'CRDER1' is not FITS standard (invalid value string: 'nan').  Fixed 'CRDER1' card to meet the FITS standard. [astropy.io.fits.verify]\n",
      "WARNING: VerifyWarning:     Card 75: [astropy.io.fits.verify]\n",
      "WARNING: VerifyWarning:         Card 'CRDER2' is not FITS standard (invalid value string: 'nan').  Fixed 'CRDER2' card to meet the FITS standard. [astropy.io.fits.verify]\n",
      "WARNING: VerifyWarning:     Card 76: [astropy.io.fits.verify]\n",
      "WARNING: VerifyWarning:         Card 'CSYSER1' is not FITS standard (invalid value string: 'nan').  Fixed 'CSYSER1' card to meet the FITS standard. [astropy.io.fits.verify]\n",
      "WARNING: VerifyWarning:     Card 77: [astropy.io.fits.verify]\n",
      "WARNING: VerifyWarning:         Card 'CSYSER2' is not FITS standard (invalid value string: 'nan').  Fixed 'CSYSER2' card to meet the FITS standard. [astropy.io.fits.verify]\n",
      "  0%|                                  | 1243/380737 [05:04<24:01:47,  4.39it/s]WARNING: VerifyWarning:     Card 78: [astropy.io.fits.verify]\n",
      "WARNING: VerifyWarning:     Card 79: [astropy.io.fits.verify]\n",
      "WARNING: VerifyWarning:     Card 80: [astropy.io.fits.verify]\n",
      " 17%|█████▎                         | 65892/380737 [4:15:20<20:39:45,  4.23it/s]WARNING: VerifyWarning:         Card 'OSCNMEAN' is not FITS standard (invalid value string: '-nan').  Fixed 'OSCNMEAN' card to meet the FITS standard. [astropy.io.fits.verify]\n",
      "WARNING: VerifyWarning:         Card 'OSCNRMS' is not FITS standard (invalid value string: '-nan').  Fixed 'OSCNRMS' card to meet the FITS standard. [astropy.io.fits.verify]\n",
      " 22%|██████▋                        | 82064/380737 [5:19:29<19:30:11,  4.25it/s]"
     ]
    }
   ],
   "source": [
    "aia_file_list_new = []\n",
    "hmi_file_list_new = []\n",
    "for n in tqdm(range(len(aia_file_list))):\n",
    "    #if n%100 == 0:\n",
    "    #    print n\n",
    "    a_fits = fits.open(aia_file_list[n])\n",
    "    a_fits.verify('fix') #arguably the more important part of this block, the fits verification and fixing\n",
    "    a = a_fits[1].data\n",
    "    h_fits = fits.open(hmi_file_list[n])\n",
    "    h_fits.verify('fix')\n",
    "    h = h_fits[1].data\n",
    "    \n",
    "    a_fits.close()\n",
    "    h_fits.close()\n",
    "    \n",
    "    if np.isnan(a).any() or np.isnan(h).any(): #we just skip the images that do have nan's, can get away with it because there's so much data\n",
    "        pass\n",
    "    else:\n",
    "        aia_file_list_new.append(aia_file_list[n])\n",
    "        hmi_file_list_new.append(hmi_file_list[n])\n",
    "         "
   ]
  },
  {
   "cell_type": "code",
   "execution_count": null,
   "id": "f6ff07af",
   "metadata": {},
   "outputs": [],
   "source": [
    "#above saved the valid files to *_file_list_new, so we just overwrite the old variable names here\n",
    "aia_file_list = aia_file_list_new\n",
    "hmi_file_list = hmi_file_list_new"
   ]
  },
  {
   "cell_type": "code",
   "execution_count": 14,
   "id": "6317ed3f",
   "metadata": {},
   "outputs": [
    {
     "name": "stdout",
     "output_type": "stream",
     "text": [
      "380076 380076\n"
     ]
    }
   ],
   "source": [
    "#alternative way of doing the above, if those lists were saved to csv's (ie when it took two days to do the nancheck for the whole dataset)\n",
    "oldlist=pd.read_csv('/home/zenalisa/data/whole_dataset/north_biglist_fixed.csv', delimiter=',')\n",
    "aia_file_list=list(oldlist['aia'])\n",
    "hmi_file_list=list(oldlist['hmi'])\n",
    "\n",
    "print(len(aia_file_list), len(hmi_file_list))"
   ]
  },
  {
   "cell_type": "markdown",
   "id": "b4cb74a2",
   "metadata": {},
   "source": [
    "### Convert and save .tiff images\n",
    "Ditto all the commentary above the nan check block. Takes forever, go get lunch, but I'm doing this for the whole dataset so ignore this if you're using that same old data, etc. currently a bit weird because whole dataset, but will put the old ones here and document them too"
   ]
  },
  {
   "cell_type": "code",
   "execution_count": 19,
   "id": "af7a9439",
   "metadata": {},
   "outputs": [
    {
     "name": "stderr",
     "output_type": "stream",
     "text": [
      "  0%|                                                | 0/380076 [00:00<?, ?it/s]/tmp/ipykernel_972868/1425921565.py:38: RuntimeWarning: divide by zero encountered in log10\n",
      "  data = np.log10(data - np.amin(data))\n",
      "  0%|                                    | 21/380076 [00:04<22:09:24,  4.76it/s]\n"
     ]
    },
    {
     "ename": "KeyboardInterrupt",
     "evalue": "",
     "output_type": "error",
     "traceback": [
      "\u001b[0;31m---------------------------------------------------------------------------\u001b[0m",
      "\u001b[0;31mKeyboardInterrupt\u001b[0m                         Traceback (most recent call last)",
      "\u001b[0;32m/tmp/ipykernel_972868/708666918.py\u001b[0m in \u001b[0;36m<module>\u001b[0;34m\u001b[0m\n\u001b[1;32m      8\u001b[0m         \u001b[0;32mtry\u001b[0m\u001b[0;34m:\u001b[0m\u001b[0;34m\u001b[0m\u001b[0;34m\u001b[0m\u001b[0m\n\u001b[1;32m      9\u001b[0m \u001b[0;34m\u001b[0m\u001b[0m\n\u001b[0;32m---> 10\u001b[0;31m             \u001b[0ma\u001b[0m\u001b[0;34m,\u001b[0m \u001b[0mamin\u001b[0m\u001b[0;34m,\u001b[0m \u001b[0mamax\u001b[0m \u001b[0;34m=\u001b[0m \u001b[0mfits_to_tiff\u001b[0m\u001b[0;34m(\u001b[0m\u001b[0maia_file_list\u001b[0m\u001b[0;34m[\u001b[0m\u001b[0mn\u001b[0m\u001b[0;34m]\u001b[0m\u001b[0;34m,\u001b[0m \u001b[0;34m'aia'\u001b[0m\u001b[0;34m,\u001b[0m \u001b[0moutp_name\u001b[0m\u001b[0;34m=\u001b[0m\u001b[0;34m'/mnt/zena/tiff/aia'\u001b[0m\u001b[0;34m)\u001b[0m\u001b[0;34m\u001b[0m\u001b[0;34m\u001b[0m\u001b[0m\n\u001b[0m\u001b[1;32m     11\u001b[0m             \u001b[0mh\u001b[0m\u001b[0;34m,\u001b[0m \u001b[0mhmin\u001b[0m\u001b[0;34m,\u001b[0m \u001b[0mhmax\u001b[0m \u001b[0;34m=\u001b[0m \u001b[0mfits_to_tiff\u001b[0m\u001b[0;34m(\u001b[0m\u001b[0mhmi_file_list\u001b[0m\u001b[0;34m[\u001b[0m\u001b[0mn\u001b[0m\u001b[0;34m]\u001b[0m\u001b[0;34m,\u001b[0m \u001b[0;34m'hmi'\u001b[0m\u001b[0;34m,\u001b[0m \u001b[0moutp_name\u001b[0m\u001b[0;34m=\u001b[0m\u001b[0;34m'/mnt/zena/tiff/hmi'\u001b[0m\u001b[0;34m)\u001b[0m\u001b[0;34m\u001b[0m\u001b[0;34m\u001b[0m\u001b[0m\n\u001b[1;32m     12\u001b[0m             \u001b[0;31m#ha, hamin, hamax = fits_to_tiff(hmi_file_list[n], 'hmi', outp_name='/home/zenalisa/data/'+dataset_name+'/hmi_abs', absval=True)\u001b[0m\u001b[0;34m\u001b[0m\u001b[0;34m\u001b[0m\u001b[0;34m\u001b[0m\u001b[0m\n",
      "\u001b[0;32m/tmp/ipykernel_972868/1425921565.py\u001b[0m in \u001b[0;36mfits_to_tiff\u001b[0;34m(filepath, img_type, r, outp_name, absval, log_10)\u001b[0m\n\u001b[1;32m     40\u001b[0m             \u001b[0mdata\u001b[0m\u001b[0;34m=\u001b[0m\u001b[0mdata\u001b[0m\u001b[0;34m-\u001b[0m\u001b[0mnp\u001b[0m\u001b[0;34m.\u001b[0m\u001b[0mamin\u001b[0m\u001b[0;34m(\u001b[0m\u001b[0mdata\u001b[0m\u001b[0;34m)\u001b[0m\u001b[0;34m\u001b[0m\u001b[0;34m\u001b[0m\u001b[0m\n\u001b[1;32m     41\u001b[0m \u001b[0;34m\u001b[0m\u001b[0m\n\u001b[0;32m---> 42\u001b[0;31m         \u001b[0mdata\u001b[0m\u001b[0;34m=\u001b[0m\u001b[0mdata\u001b[0m\u001b[0;34m.\u001b[0m\u001b[0mastype\u001b[0m\u001b[0;34m(\u001b[0m\u001b[0mfloat\u001b[0m\u001b[0;34m)\u001b[0m\u001b[0;34m/\u001b[0m\u001b[0mnp\u001b[0m\u001b[0;34m.\u001b[0m\u001b[0mamax\u001b[0m\u001b[0;34m(\u001b[0m\u001b[0mdata\u001b[0m\u001b[0;34m)\u001b[0m\u001b[0;34m*\u001b[0m\u001b[0;36m255\u001b[0m\u001b[0;34m\u001b[0m\u001b[0;34m\u001b[0m\u001b[0m\n\u001b[0m\u001b[1;32m     43\u001b[0m         \u001b[0mdata\u001b[0m\u001b[0;34m=\u001b[0m\u001b[0mnp\u001b[0m\u001b[0;34m.\u001b[0m\u001b[0mround\u001b[0m\u001b[0;34m(\u001b[0m\u001b[0mdata\u001b[0m\u001b[0;34m)\u001b[0m\u001b[0;34m\u001b[0m\u001b[0;34m\u001b[0m\u001b[0m\n\u001b[1;32m     44\u001b[0m         \u001b[0mdata\u001b[0m\u001b[0;34m=\u001b[0m\u001b[0mdata\u001b[0m\u001b[0;34m.\u001b[0m\u001b[0mastype\u001b[0m\u001b[0;34m(\u001b[0m\u001b[0mnp\u001b[0m\u001b[0;34m.\u001b[0m\u001b[0muint8\u001b[0m\u001b[0;34m)\u001b[0m\u001b[0;34m\u001b[0m\u001b[0;34m\u001b[0m\u001b[0m\n",
      "\u001b[0;31mKeyboardInterrupt\u001b[0m: "
     ]
    }
   ],
   "source": [
    "\n",
    "\n",
    "table = open('/home/zenalisa/data/whole_dataset/test_list_north.csv', 'w')\n",
    "w = csv.writer(table, delimiter = ',')\n",
    "w.writerow(['path_signal', 'path_target'])\n",
    "for n in tqdm(range(len(aia_file_list))):\n",
    "        #print(timediff(aia_file_list[n], hmi_file_list[n]))\n",
    "        try:\n",
    " \n",
    "            a, amin, amax = fits_to_tiff(aia_file_list[n], 'aia', outp_name='/mnt/zena/tiff/aia')\n",
    "            h, hmin, hmax = fits_to_tiff(hmi_file_list[n], 'hmi', outp_name='/mnt/zena/tiff/hmi')\n",
    "            #ha, hamin, hamax = fits_to_tiff(hmi_file_list[n], 'hmi', outp_name='/home/zenalisa/data/'+dataset_name+'/hmi_abs', absval=True)\n",
    "\n",
    "            w.writerow([a, h])#, ha])\n",
    "            #w.writerow([alog, ha])\n",
    "            #v.writerow([a, amin, amax, alog, alogmin, alogmax, h, hmin, hmax])\n",
    "            #v.writerow([alog, alogmin, alogmax, ha, hamin, hamax])\n",
    "\n",
    "\n",
    "        except IndexError: #I don't remember why I had this here?\n",
    "            pass\n",
    "        #if n%100 ==0:\n",
    "        #    print n\n",
    "\n",
    "\n",
    "table.close()\n"
   ]
  },
  {
   "cell_type": "code",
   "execution_count": 24,
   "id": "105cf317",
   "metadata": {},
   "outputs": [
    {
     "name": "stdout",
     "output_type": "stream",
     "text": [
      "/mnt/zena/tiff/hmi/1087/hmi.M_720s.20100712_003600_TAI.1.magnetogram.tiff\n"
     ]
    },
    {
     "data": {
      "text/plain": [
       "<matplotlib.image.AxesImage at 0x7fce0c6a7fd0>"
      ]
     },
     "execution_count": 24,
     "metadata": {},
     "output_type": "execute_result"
    },
    {
     "data": {
      "image/png": "[encoded data removed]",
      "text/plain": [
       "<Figure size 432x288 with 1 Axes>"
      ]
     },
     "metadata": {
      "needs_background": "light"
     },
     "output_type": "display_data"
    }
   ],
   "source": [
    "#just double checking that those ^ look right after the conversion\n",
    "test=glob.glob('/mnt/zena/tiff/hmi/*/*.tiff')[0]\n",
    "print(test)\n",
    "\n",
    "t=Image.open(test)\n",
    "t=np.array(t)\n",
    "plt.imshow(t, cmap='gray')"
   ]
  },
  {
   "cell_type": "code",
   "execution_count": null,
   "id": "d78b4208",
   "metadata": {},
   "outputs": [],
   "source": []
  }
 ],
 "metadata": {
  "kernelspec": {
   "display_name": "Python 3 (ipykernel)",
   "language": "python",
   "name": "python3"
  },
  "language_info": {
   "codemirror_mode": {
    "name": "ipython",
    "version": 3
   },
   "file_extension": ".py",
   "mimetype": "text/x-python",
   "name": "python",
   "nbconvert_exporter": "python",
   "pygments_lexer": "ipython3",
   "version": "3.8.10"
  }
 },
 "nbformat": 4,
 "nbformat_minor": 5
}
