{
 "cells": [
  {
   "cell_type": "code",
   "execution_count": null,
   "metadata": {},
   "outputs": [],
   "source": [
    "#https://gist.github.com/rickbassham/b02e7c4f095e173c220da2b216bd476c\n",
    "\n",
    "from astropy.io import fits\n",
    "from PIL import Image\n",
    "import numpy\n",
    "import sys\n",
    "import os\n",
    "    \n",
    "def fits_to_tiff(filepath):\n",
    "\n",
    "\n",
    "    name, ext = os.path.splitext(filepath)\n",
    "\n",
    "    img = fits.open(filepath)\n",
    "\n",
    "    img.info()\n",
    "\n",
    "    data = img[0].data\n",
    "\n",
    "    width = data.shape[1]\n",
    "    height = data.shape[0]\n",
    "\n",
    "    outputArray = numpy.array(data, dtype=numpy.int16)\n",
    "\n",
    "    output = Image.fromarray(outputArray.reshape((height, width)), \"I;16\")\n",
    "\n",
    "    output.save(name + \".tif\")"
   ]
  }
 ],
 "metadata": {
  "kernelspec": {
   "display_name": "Python 2",
   "language": "python",
   "name": "python2"
  },
  "language_info": {
   "codemirror_mode": {
    "name": "ipython",
    "version": 2
   },
   "file_extension": ".py",
   "mimetype": "text/x-python",
   "name": "python",
   "nbconvert_exporter": "python",
   "pygments_lexer": "ipython2",
   "version": "2.7.15"
  }
 },
 "nbformat": 4,
 "nbformat_minor": 2
}
